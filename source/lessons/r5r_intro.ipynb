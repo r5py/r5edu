{
 "cells": [
  {
   "cell_type": "code",
   "execution_count": 3,
   "id": "9b1bdc88",
   "metadata": {},
   "outputs": [
    {
     "name": "stderr",
     "output_type": "stream",
     "text": [
      "Downloading GitHub repo ipeaGIT/r5r@HEAD\n",
      "\n"
     ]
    },
    {
     "name": "stdout",
     "output_type": "stream",
     "text": [
      "sf (1.0-7 -> 1.0-9) [CRAN]\n"
     ]
    },
    {
     "name": "stderr",
     "output_type": "stream",
     "text": [
      "Installing 1 packages: sf\n",
      "\n",
      "Warning message in i.p(...):\n",
      "“installation of package ‘sf’ had non-zero exit status”\n",
      "Updating HTML index of packages in '.Library'\n",
      "\n",
      "Making 'packages.html' ...\n",
      " done\n",
      "\n"
     ]
    },
    {
     "name": "stdout",
     "output_type": "stream",
     "text": [
      "\u001b[32m✔\u001b[39m  \u001b[90mchecking for file ‘/tmp/RtmpgeIIFz/remotes204763333baaf/ipeaGIT-r5r-e463766/r-package/DESCRIPTION’\u001b[39m\u001b[36m\u001b[39m\n",
      "\u001b[90m─\u001b[39m\u001b[90m  \u001b[39m\u001b[90mpreparing ‘r5r’:\u001b[39m\u001b[36m\u001b[39m\n",
      "\u001b[32m✔\u001b[39m  \u001b[90mchecking DESCRIPTION meta-information\u001b[39m\u001b[36m\u001b[39m\n",
      "\u001b[90m─\u001b[39m\u001b[90m  \u001b[39m\u001b[90minstalling the package to process help pages\u001b[39m\u001b[36m\u001b[39m\n",
      "\u001b[90m─\u001b[39m\u001b[90m  \u001b[39m\u001b[90msaving partial Rd database\u001b[39m\u001b[36m\u001b[36m (1.8s)\u001b[36m\u001b[39m\n",
      "\u001b[90m─\u001b[39m\u001b[90m  \u001b[39m\u001b[90mchecking for LF line-endings in source and make files and shell scripts\u001b[39m\u001b[36m\u001b[39m\n",
      "\u001b[90m─\u001b[39m\u001b[90m  \u001b[39m\u001b[90mchecking for empty or unneeded directories\u001b[39m\u001b[36m\u001b[39m\n",
      "\u001b[90m─\u001b[39m\u001b[90m  \u001b[39m\u001b[90mbuilding ‘r5r_0.7.90000.tar.gz’\u001b[39m\u001b[36m\u001b[39m\n",
      "   \n",
      "\r"
     ]
    }
   ],
   "source": [
    "# Install the CRAN version (0.7.1)\n",
    "#install.packages(\"r5r\")\n",
    "\n",
    "# Install the latest version of the library (0.7.9)\n",
    "devtools::install_github(\"ipeaGIT/r5r\", subdir = \"r-package\")"
   ]
  },
  {
   "cell_type": "code",
   "execution_count": 4,
   "id": "8f8eb4b2",
   "metadata": {},
   "outputs": [],
   "source": [
    "# Allow 4 GB of memory\n",
    "options(java.parameters = \"-Xmx4G\")"
   ]
  },
  {
   "cell_type": "code",
   "execution_count": 5,
   "id": "768f1abd",
   "metadata": {},
   "outputs": [
    {
     "name": "stderr",
     "output_type": "stream",
     "text": [
      "Please make sure you have already allocated some memory to Java by running:\n",
      "  options(java.parameters = '-Xmx2G').\n",
      "You should replace '2G' by the amount of memory you'll require. Currently, Java memory is set to -Xmx4G\n",
      "\n"
     ]
    }
   ],
   "source": [
    "library(r5r)\n",
    "library(sf)\n",
    "library(data.table)\n",
    "library(ggplot2)"
   ]
  },
  {
   "cell_type": "code",
   "execution_count": 6,
   "id": "1b00fcda",
   "metadata": {},
   "outputs": [],
   "source": [
    "data_path <- system.file(\"extdata/poa\", package = \"r5r\")"
   ]
  },
  {
   "cell_type": "code",
   "execution_count": 7,
   "id": "39747ae9",
   "metadata": {},
   "outputs": [
    {
     "data": {
      "text/html": [
       "<style>\n",
       ".list-inline {list-style: none; margin:0; padding: 0}\n",
       ".list-inline>li {display: inline-block}\n",
       ".list-inline>li:not(:last-child)::after {content: \"\\00b7\"; padding: 0 .5ex}\n",
       "</style>\n",
       "<ol class=list-inline><li>'fares'</li><li>'poa_elevation.tif'</li><li>'poa_eptc.zip'</li><li>'poa_hexgrid.csv'</li><li>'poa_osm.pbf'</li><li>'poa_points_of_interest.csv'</li><li>'poa_trensurb.zip'</li></ol>\n"
      ],
      "text/latex": [
       "\\begin{enumerate*}\n",
       "\\item 'fares'\n",
       "\\item 'poa\\_elevation.tif'\n",
       "\\item 'poa\\_eptc.zip'\n",
       "\\item 'poa\\_hexgrid.csv'\n",
       "\\item 'poa\\_osm.pbf'\n",
       "\\item 'poa\\_points\\_of\\_interest.csv'\n",
       "\\item 'poa\\_trensurb.zip'\n",
       "\\end{enumerate*}\n"
      ],
      "text/markdown": [
       "1. 'fares'\n",
       "2. 'poa_elevation.tif'\n",
       "3. 'poa_eptc.zip'\n",
       "4. 'poa_hexgrid.csv'\n",
       "5. 'poa_osm.pbf'\n",
       "6. 'poa_points_of_interest.csv'\n",
       "7. 'poa_trensurb.zip'\n",
       "\n",
       "\n"
      ],
      "text/plain": [
       "[1] \"fares\"                      \"poa_elevation.tif\"         \n",
       "[3] \"poa_eptc.zip\"               \"poa_hexgrid.csv\"           \n",
       "[5] \"poa_osm.pbf\"                \"poa_points_of_interest.csv\"\n",
       "[7] \"poa_trensurb.zip\"          "
      ]
     },
     "metadata": {},
     "output_type": "display_data"
    }
   ],
   "source": [
    "list.files(data_path)"
   ]
  },
  {
   "cell_type": "code",
   "execution_count": 8,
   "id": "aa002a0b",
   "metadata": {},
   "outputs": [],
   "source": [
    "poi <- fread(file.path(data_path, \"poa_points_of_interest.csv\"))"
   ]
  },
  {
   "cell_type": "code",
   "execution_count": 9,
   "id": "3cf463bc",
   "metadata": {},
   "outputs": [
    {
     "data": {
      "text/html": [
       "<table class=\"dataframe\">\n",
       "<caption>A data.table: 6 × 3</caption>\n",
       "<thead>\n",
       "\t<tr><th scope=col>id</th><th scope=col>lat</th><th scope=col>lon</th></tr>\n",
       "\t<tr><th scope=col>&lt;chr&gt;</th><th scope=col>&lt;dbl&gt;</th><th scope=col>&lt;dbl&gt;</th></tr>\n",
       "</thead>\n",
       "<tbody>\n",
       "\t<tr><td>public_market      </td><td>-30.02756</td><td>-51.22781</td></tr>\n",
       "\t<tr><td>bus_central_station</td><td>-30.02329</td><td>-51.21886</td></tr>\n",
       "\t<tr><td>gasometer_museum   </td><td>-30.03404</td><td>-51.24095</td></tr>\n",
       "\t<tr><td>santa_casa_hospital</td><td>-30.03043</td><td>-51.22240</td></tr>\n",
       "\t<tr><td>townhall           </td><td>-30.02800</td><td>-51.22865</td></tr>\n",
       "\t<tr><td>piratini_palace    </td><td>-30.03363</td><td>-51.23068</td></tr>\n",
       "</tbody>\n",
       "</table>\n"
      ],
      "text/latex": [
       "A data.table: 6 × 3\n",
       "\\begin{tabular}{lll}\n",
       " id & lat & lon\\\\\n",
       " <chr> & <dbl> & <dbl>\\\\\n",
       "\\hline\n",
       "\t public\\_market       & -30.02756 & -51.22781\\\\\n",
       "\t bus\\_central\\_station & -30.02329 & -51.21886\\\\\n",
       "\t gasometer\\_museum    & -30.03404 & -51.24095\\\\\n",
       "\t santa\\_casa\\_hospital & -30.03043 & -51.22240\\\\\n",
       "\t townhall            & -30.02800 & -51.22865\\\\\n",
       "\t piratini\\_palace     & -30.03363 & -51.23068\\\\\n",
       "\\end{tabular}\n"
      ],
      "text/markdown": [
       "\n",
       "A data.table: 6 × 3\n",
       "\n",
       "| id &lt;chr&gt; | lat &lt;dbl&gt; | lon &lt;dbl&gt; |\n",
       "|---|---|---|\n",
       "| public_market       | -30.02756 | -51.22781 |\n",
       "| bus_central_station | -30.02329 | -51.21886 |\n",
       "| gasometer_museum    | -30.03404 | -51.24095 |\n",
       "| santa_casa_hospital | -30.03043 | -51.22240 |\n",
       "| townhall            | -30.02800 | -51.22865 |\n",
       "| piratini_palace     | -30.03363 | -51.23068 |\n",
       "\n"
      ],
      "text/plain": [
       "  id                  lat       lon      \n",
       "1 public_market       -30.02756 -51.22781\n",
       "2 bus_central_station -30.02329 -51.21886\n",
       "3 gasometer_museum    -30.03404 -51.24095\n",
       "4 santa_casa_hospital -30.03043 -51.22240\n",
       "5 townhall            -30.02800 -51.22865\n",
       "6 piratini_palace     -30.03363 -51.23068"
      ]
     },
     "metadata": {},
     "output_type": "display_data"
    }
   ],
   "source": [
    "head(poi)"
   ]
  },
  {
   "cell_type": "code",
   "execution_count": 10,
   "id": "5ea8a7e8",
   "metadata": {},
   "outputs": [
    {
     "data": {
      "text/html": [
       "<table class=\"dataframe\">\n",
       "<caption>A data.table: 6 × 8</caption>\n",
       "<thead>\n",
       "\t<tr><th scope=col>V1</th><th scope=col>id</th><th scope=col>lon</th><th scope=col>lat</th><th scope=col>population</th><th scope=col>schools</th><th scope=col>jobs</th><th scope=col>healthcare</th></tr>\n",
       "\t<tr><th scope=col>&lt;int&gt;</th><th scope=col>&lt;chr&gt;</th><th scope=col>&lt;dbl&gt;</th><th scope=col>&lt;dbl&gt;</th><th scope=col>&lt;int&gt;</th><th scope=col>&lt;int&gt;</th><th scope=col>&lt;int&gt;</th><th scope=col>&lt;int&gt;</th></tr>\n",
       "</thead>\n",
       "<tbody>\n",
       "\t<tr><td>724</td><td>89a90129eb7ffff</td><td>-51.16364</td><td>-30.03674</td><td> 494</td><td>0</td><td> 181</td><td>0</td></tr>\n",
       "\t<tr><td>639</td><td>89a901295bbffff</td><td>-51.15914</td><td>-30.07596</td><td> 796</td><td>0</td><td>   2</td><td>0</td></tr>\n",
       "\t<tr><td>899</td><td>89a90129177ffff</td><td>-51.15196</td><td>-30.04883</td><td>2543</td><td>0</td><td>  25</td><td>0</td></tr>\n",
       "\t<tr><td>353</td><td>89a90129ddbffff</td><td>-51.18503</td><td>-30.03908</td><td>1430</td><td>0</td><td> 194</td><td>0</td></tr>\n",
       "\t<tr><td>618</td><td>89a90128097ffff</td><td>-51.20182</td><td>-30.07787</td><td> 437</td><td>0</td><td>  16</td><td>0</td></tr>\n",
       "\t<tr><td>288</td><td>89a90128c53ffff</td><td>-51.22804</td><td>-30.04929</td><td>  99</td><td>0</td><td>3153</td><td>0</td></tr>\n",
       "</tbody>\n",
       "</table>\n"
      ],
      "text/latex": [
       "A data.table: 6 × 8\n",
       "\\begin{tabular}{llllllll}\n",
       " V1 & id & lon & lat & population & schools & jobs & healthcare\\\\\n",
       " <int> & <chr> & <dbl> & <dbl> & <int> & <int> & <int> & <int>\\\\\n",
       "\\hline\n",
       "\t 724 & 89a90129eb7ffff & -51.16364 & -30.03674 &  494 & 0 &  181 & 0\\\\\n",
       "\t 639 & 89a901295bbffff & -51.15914 & -30.07596 &  796 & 0 &    2 & 0\\\\\n",
       "\t 899 & 89a90129177ffff & -51.15196 & -30.04883 & 2543 & 0 &   25 & 0\\\\\n",
       "\t 353 & 89a90129ddbffff & -51.18503 & -30.03908 & 1430 & 0 &  194 & 0\\\\\n",
       "\t 618 & 89a90128097ffff & -51.20182 & -30.07787 &  437 & 0 &   16 & 0\\\\\n",
       "\t 288 & 89a90128c53ffff & -51.22804 & -30.04929 &   99 & 0 & 3153 & 0\\\\\n",
       "\\end{tabular}\n"
      ],
      "text/markdown": [
       "\n",
       "A data.table: 6 × 8\n",
       "\n",
       "| V1 &lt;int&gt; | id &lt;chr&gt; | lon &lt;dbl&gt; | lat &lt;dbl&gt; | population &lt;int&gt; | schools &lt;int&gt; | jobs &lt;int&gt; | healthcare &lt;int&gt; |\n",
       "|---|---|---|---|---|---|---|---|\n",
       "| 724 | 89a90129eb7ffff | -51.16364 | -30.03674 |  494 | 0 |  181 | 0 |\n",
       "| 639 | 89a901295bbffff | -51.15914 | -30.07596 |  796 | 0 |    2 | 0 |\n",
       "| 899 | 89a90129177ffff | -51.15196 | -30.04883 | 2543 | 0 |   25 | 0 |\n",
       "| 353 | 89a90129ddbffff | -51.18503 | -30.03908 | 1430 | 0 |  194 | 0 |\n",
       "| 618 | 89a90128097ffff | -51.20182 | -30.07787 |  437 | 0 |   16 | 0 |\n",
       "| 288 | 89a90128c53ffff | -51.22804 | -30.04929 |   99 | 0 | 3153 | 0 |\n",
       "\n"
      ],
      "text/plain": [
       "  V1  id              lon       lat       population schools jobs healthcare\n",
       "1 724 89a90129eb7ffff -51.16364 -30.03674  494       0        181 0         \n",
       "2 639 89a901295bbffff -51.15914 -30.07596  796       0          2 0         \n",
       "3 899 89a90129177ffff -51.15196 -30.04883 2543       0         25 0         \n",
       "4 353 89a90129ddbffff -51.18503 -30.03908 1430       0        194 0         \n",
       "5 618 89a90128097ffff -51.20182 -30.07787  437       0         16 0         \n",
       "6 288 89a90128c53ffff -51.22804 -30.04929   99       0       3153 0         "
      ]
     },
     "metadata": {},
     "output_type": "display_data"
    }
   ],
   "source": [
    "points <- fread(file.path(data_path, \"poa_hexgrid.csv\"))\n",
    "\n",
    "# sample points\n",
    "sampled_rows <-  sample(1:nrow(points), 200, replace=TRUE)\n",
    "points <- points[ sampled_rows, ]\n",
    "head(points)"
   ]
  },
  {
   "cell_type": "code",
   "execution_count": 11,
   "id": "12c9c3cf",
   "metadata": {},
   "outputs": [
    {
     "name": "stderr",
     "output_type": "stream",
     "text": [
      "Downloading R5 jar file to /home/hentenka/.conda/envs/mamba/envs/r5edu/lib/R/library/r5r/jar/r5-v6.7-all.jar\n",
      "\n",
      "\n",
      "Finished building network.dat at /home/hentenka/.conda/envs/mamba/envs/r5edu/lib/R/library/r5r/extdata/poa/network.dat\n",
      "\n"
     ]
    }
   ],
   "source": [
    "# Indicate the path where OSM and GTFS data are stored\n",
    "r5r_core <- setup_r5(data_path = data_path)"
   ]
  },
  {
   "cell_type": "code",
   "execution_count": 12,
   "id": "52043051",
   "metadata": {},
   "outputs": [],
   "source": [
    "# set departure datetime input\n",
    "departure_datetime <- as.POSIXct(\"13-05-2019 14:00:00\",\n",
    "                                 format = \"%d-%m-%Y %H:%M:%S\")\n",
    "\n",
    "# calculate accessibility\n",
    "access <- accessibility(r5r_core = r5r_core,\n",
    "                        origins = points,\n",
    "                        destinations = points,\n",
    "                        opportunities_colnames = c(\"schools\", \"healthcare\"),\n",
    "                        mode = c(\"WALK\", \"TRANSIT\"),\n",
    "                        departure_datetime = departure_datetime,\n",
    "                        decay_function = \"step\",\n",
    "                        cutoffs = 60\n",
    "                        )"
   ]
  },
  {
   "cell_type": "code",
   "execution_count": 13,
   "id": "e932a227",
   "metadata": {},
   "outputs": [
    {
     "data": {
      "text/html": [
       "<table class=\"dataframe\">\n",
       "<caption>A data.table: 6 × 5</caption>\n",
       "<thead>\n",
       "\t<tr><th scope=col>id</th><th scope=col>opportunity</th><th scope=col>percentile</th><th scope=col>cutoff</th><th scope=col>accessibility</th></tr>\n",
       "\t<tr><th scope=col>&lt;chr&gt;</th><th scope=col>&lt;chr&gt;</th><th scope=col>&lt;int&gt;</th><th scope=col>&lt;int&gt;</th><th scope=col>&lt;dbl&gt;</th></tr>\n",
       "</thead>\n",
       "<tbody>\n",
       "\t<tr><td>89a90129eb7ffff</td><td>schools   </td><td>50</td><td>60</td><td>27</td></tr>\n",
       "\t<tr><td>89a90129eb7ffff</td><td>healthcare</td><td>50</td><td>60</td><td>16</td></tr>\n",
       "\t<tr><td>89a901295bbffff</td><td>schools   </td><td>50</td><td>60</td><td>36</td></tr>\n",
       "\t<tr><td>89a901295bbffff</td><td>healthcare</td><td>50</td><td>60</td><td>17</td></tr>\n",
       "\t<tr><td>89a90129177ffff</td><td>schools   </td><td>50</td><td>60</td><td>21</td></tr>\n",
       "\t<tr><td>89a90129177ffff</td><td>healthcare</td><td>50</td><td>60</td><td>12</td></tr>\n",
       "</tbody>\n",
       "</table>\n"
      ],
      "text/latex": [
       "A data.table: 6 × 5\n",
       "\\begin{tabular}{lllll}\n",
       " id & opportunity & percentile & cutoff & accessibility\\\\\n",
       " <chr> & <chr> & <int> & <int> & <dbl>\\\\\n",
       "\\hline\n",
       "\t 89a90129eb7ffff & schools    & 50 & 60 & 27\\\\\n",
       "\t 89a90129eb7ffff & healthcare & 50 & 60 & 16\\\\\n",
       "\t 89a901295bbffff & schools    & 50 & 60 & 36\\\\\n",
       "\t 89a901295bbffff & healthcare & 50 & 60 & 17\\\\\n",
       "\t 89a90129177ffff & schools    & 50 & 60 & 21\\\\\n",
       "\t 89a90129177ffff & healthcare & 50 & 60 & 12\\\\\n",
       "\\end{tabular}\n"
      ],
      "text/markdown": [
       "\n",
       "A data.table: 6 × 5\n",
       "\n",
       "| id &lt;chr&gt; | opportunity &lt;chr&gt; | percentile &lt;int&gt; | cutoff &lt;int&gt; | accessibility &lt;dbl&gt; |\n",
       "|---|---|---|---|---|\n",
       "| 89a90129eb7ffff | schools    | 50 | 60 | 27 |\n",
       "| 89a90129eb7ffff | healthcare | 50 | 60 | 16 |\n",
       "| 89a901295bbffff | schools    | 50 | 60 | 36 |\n",
       "| 89a901295bbffff | healthcare | 50 | 60 | 17 |\n",
       "| 89a90129177ffff | schools    | 50 | 60 | 21 |\n",
       "| 89a90129177ffff | healthcare | 50 | 60 | 12 |\n",
       "\n"
      ],
      "text/plain": [
       "  id              opportunity percentile cutoff accessibility\n",
       "1 89a90129eb7ffff schools     50         60     27           \n",
       "2 89a90129eb7ffff healthcare  50         60     16           \n",
       "3 89a901295bbffff schools     50         60     36           \n",
       "4 89a901295bbffff healthcare  50         60     17           \n",
       "5 89a90129177ffff schools     50         60     21           \n",
       "6 89a90129177ffff healthcare  50         60     12           "
      ]
     },
     "metadata": {},
     "output_type": "display_data"
    }
   ],
   "source": [
    "head(access)"
   ]
  },
  {
   "cell_type": "code",
   "execution_count": 14,
   "id": "0d429955",
   "metadata": {},
   "outputs": [
    {
     "data": {
      "text/html": [
       "<table class=\"dataframe\">\n",
       "<caption>A data.table: 6 × 3</caption>\n",
       "<thead>\n",
       "\t<tr><th scope=col>from_id</th><th scope=col>to_id</th><th scope=col>travel_time_p50</th></tr>\n",
       "\t<tr><th scope=col>&lt;chr&gt;</th><th scope=col>&lt;chr&gt;</th><th scope=col>&lt;int&gt;</th></tr>\n",
       "</thead>\n",
       "<tbody>\n",
       "\t<tr><td>public_market</td><td>public_market      </td><td> 0</td></tr>\n",
       "\t<tr><td>public_market</td><td>bus_central_station</td><td>13</td></tr>\n",
       "\t<tr><td>public_market</td><td>gasometer_museum   </td><td>10</td></tr>\n",
       "\t<tr><td>public_market</td><td>santa_casa_hospital</td><td>15</td></tr>\n",
       "\t<tr><td>public_market</td><td>townhall           </td><td> 3</td></tr>\n",
       "\t<tr><td>public_market</td><td>piratini_palace    </td><td>17</td></tr>\n",
       "</tbody>\n",
       "</table>\n"
      ],
      "text/latex": [
       "A data.table: 6 × 3\n",
       "\\begin{tabular}{lll}\n",
       " from\\_id & to\\_id & travel\\_time\\_p50\\\\\n",
       " <chr> & <chr> & <int>\\\\\n",
       "\\hline\n",
       "\t public\\_market & public\\_market       &  0\\\\\n",
       "\t public\\_market & bus\\_central\\_station & 13\\\\\n",
       "\t public\\_market & gasometer\\_museum    & 10\\\\\n",
       "\t public\\_market & santa\\_casa\\_hospital & 15\\\\\n",
       "\t public\\_market & townhall            &  3\\\\\n",
       "\t public\\_market & piratini\\_palace     & 17\\\\\n",
       "\\end{tabular}\n"
      ],
      "text/markdown": [
       "\n",
       "A data.table: 6 × 3\n",
       "\n",
       "| from_id &lt;chr&gt; | to_id &lt;chr&gt; | travel_time_p50 &lt;int&gt; |\n",
       "|---|---|---|\n",
       "| public_market | public_market       |  0 |\n",
       "| public_market | bus_central_station | 13 |\n",
       "| public_market | gasometer_museum    | 10 |\n",
       "| public_market | santa_casa_hospital | 15 |\n",
       "| public_market | townhall            |  3 |\n",
       "| public_market | piratini_palace     | 17 |\n",
       "\n"
      ],
      "text/plain": [
       "  from_id       to_id               travel_time_p50\n",
       "1 public_market public_market        0             \n",
       "2 public_market bus_central_station 13             \n",
       "3 public_market gasometer_museum    10             \n",
       "4 public_market santa_casa_hospital 15             \n",
       "5 public_market townhall             3             \n",
       "6 public_market piratini_palace     17             "
      ]
     },
     "metadata": {},
     "output_type": "display_data"
    }
   ],
   "source": [
    "# set inputs\n",
    "mode <- c(\"WALK\", \"TRANSIT\")\n",
    "max_walk_time <- 30 # minutes\n",
    "max_trip_duration <- 120 # minutes\n",
    "departure_datetime <- as.POSIXct(\"13-05-2019 14:00:00\",\n",
    "                                 format = \"%d-%m-%Y %H:%M:%S\")\n",
    "\n",
    "# calculate a travel time matrix\n",
    "ttm <- travel_time_matrix(r5r_core = r5r_core,\n",
    "                          origins = poi,\n",
    "                          destinations = poi,\n",
    "                          mode = mode,\n",
    "                          departure_datetime = departure_datetime,\n",
    "                          max_walk_time = max_walk_time,\n",
    "                          max_trip_duration = max_trip_duration)\n",
    "\n",
    "head(ttm)"
   ]
  },
  {
   "cell_type": "code",
   "execution_count": null,
   "id": "305e0bcc",
   "metadata": {},
   "outputs": [],
   "source": []
  }
 ],
 "metadata": {
  "kernelspec": {
   "display_name": "R",
   "language": "R",
   "name": "ir"
  },
  "language_info": {
   "codemirror_mode": "r",
   "file_extension": ".r",
   "mimetype": "text/x-r-source",
   "name": "R",
   "pygments_lexer": "r",
   "version": "4.1.3"
  }
 },
 "nbformat": 4,
 "nbformat_minor": 5
}
