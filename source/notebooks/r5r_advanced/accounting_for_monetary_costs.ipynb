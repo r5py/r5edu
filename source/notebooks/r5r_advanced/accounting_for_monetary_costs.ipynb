{
 "cells": [
  {
   "cell_type": "markdown",
   "id": "f38cf72f",
   "metadata": {},
   "source": [
    "# r5r: Accounting for monetary costs\n",
    "\n",
    "This tutorial shows how to configure and use custom fare rules in order to account for monetary travel costs when generating travel time matrices and accessibility estimates with the `r5r` package.\n",
    "\n",
    "```{admonition} Credits:\n",
    "\n",
    "This tutorial is a direct copy from [r5r -documentation](https://ipeagit.github.io/r5r/articles/fare_structure.html) made by r5r contributors.\n",
    "```"
   ]
  },
  {
   "cell_type": "markdown",
   "id": "ee6bfd0c",
   "metadata": {},
   "source": [
    "# 1. Introduction\n",
    "\n",
    "Considering the monetary costs of public transport trips in the calculation of \n",
    "travel time matrices and accessibility estimates is a major challenge faced by \n",
    "researchers and planning practitioners. Each public transport system can have \n",
    "its own set of rules for calculating fares, with varying levels of complexity. \n",
    "Moreover, there are important trade offs between travel time and monetary costs \n",
    "across multiple trip alternatives and are currently not captured by any \n",
    "multimodal routing engine, except for R5.\n",
    "\n",
    "R5 has native capabilities and an open architecture for creating and including \n",
    "fare structures in routing models, making it possible to estimate travel time \n",
    "matrices and accessibility estimates simultaneously considering different \n",
    "combinations of time and monetary cost cutoffs. The main challenge, however, is \n",
    "that a specific fare structure for each city needs to be programmed in Java and \n",
    "tightly integrated into R5, making this functionality out of reach for those who \n",
    "do not know how to code in Java (i.e. most of us!).\n",
    "\n",
    "To help tackle this challenge, `r5r` has a simple generic rule-based fare \n",
    "structure that can be configured via a predefined set of properties and rules \n",
    "that can be set directly from R or using external tools such as text editors and\n",
    "spreadsheets. This approach currently available in `r5r` is able to account for \n",
    "the monetary costs of public transport systems that follow a simple set of fare \n",
    "rules according to which the cost of a journey depends on combinations of modes \n",
    "(see details below).\n",
    "\n",
    "**This tutorial shows the features of `r5r`s fare structure. It also uses a \n",
    "reproducible example to demonstrate how to configure the fare structure to \n",
    "account for monetary costs when generating travel time matrices and accessibility \n",
    "estimates with `r5r`**. \n",
    "\n",
    "## 1.1 Details\n",
    "\n",
    "A common feature among many public transport services is the possibility of \n",
    "discounted transfers, when passengers can use a single ticket for a trip composed \n",
    "of multiple rides sometimes combining different transport modes. Such trips usually \n",
    "come with a discount in the second or subsequent fares, as well as a limit on the \n",
    "number of discounted transfers the user can make and/or a time limit for using that \n",
    "discount. This is the type of fare structure currently covered by `r5r`.\n",
    "\n",
    "We acknowledge that there are several types fare rules that vary from one public \n",
    "transport system to another. According to these rules, the cost of a journey can \n",
    "differ, for example, depending on: different costs for each trip leg, transport \n",
    "mode or route; distance- or zone-based fares; different fares for types of riders \n",
    "(e.g elderly people or students) or time of the day (e.g. peak and off-peak hours); \n",
    "among many others rules. As such, taking all of these possible rules into \n",
    "consideration when calculating the monetary cost of multimodal can be quite \n",
    "difficult. `r5r` currently does not cover these more complex fare rules.\n",
    "\n",
    "The fare calculator currently available in `r5r` is not intended to be a robust \n",
    "solution that can take into consideration all public transport systems and their \n",
    "specific fare rules. That would be a Herculean task. The features included in \n",
    "`r5r`'s fare calculator are inspired by our empirical observations of Brazilian \n",
    "public transport systems, and is meant to be used mainly in the [Access to Opportunities project](https://www.ipea.gov.br/acessooportunidades/en/). Everyone else is welcome to use it, if the current features suit their needs.\n",
    "obs. The GTFS format has some features for specifying public transport fares, but\n",
    "those features are quite limited and are not enough for adequately representing \n",
    "many use cases. A new version of that specification is currently being developed \n",
    "[Fares V2](https://github.com/google/transit/issues/252), but it may take some \n",
    "time for it to be approved and for transport agencies actually start providing \n",
    "GTFS feeds with full fare information.\n",
    "\n",
    "\n",
    "# 2. Reprex: the public transport system of Porto Alegre\n",
    "In this tutorial, we will be using the sample data set for the city of Porto \n",
    "Alegre (Brazil) included in `r5r`.  Before we start, we need to increase the memory available to Java and load the packages used in this tutorial\n"
   ]
  },
  {
   "cell_type": "code",
   "execution_count": 1,
   "id": "9677d9c0",
   "metadata": {},
   "outputs": [
    {
     "name": "stderr",
     "output_type": "stream",
     "text": [
      "Please make sure you have already allocated some memory to Java by running:\n",
      "  options(java.parameters = '-Xmx2G').\n",
      "You should replace '2G' by the amount of memory you'll require. Currently, Java memory is set to -Xmx2G\n",
      "\n",
      "Linking to GEOS 3.11.0, GDAL 3.5.3, PROJ 9.1.0; sf_use_s2() is TRUE\n",
      "\n"
     ]
    },
    {
     "ename": "ERROR",
     "evalue": "Error in library(patchwork): there is no package called ‘patchwork’\n",
     "output_type": "error",
     "traceback": [
      "Error in library(patchwork): there is no package called ‘patchwork’\nTraceback:\n",
      "1. library(patchwork)"
     ]
    }
   ],
   "source": [
    "options(java.parameters = \"-Xmx2G\")\n",
    "library(r5r)\n",
    "library(sf)\n",
    "library(data.table)\n",
    "library(ggplot2)\n",
    "library(patchwork)\n",
    "library(dplyr)\n",
    "library(h3jsr)"
   ]
  },
  {
   "cell_type": "markdown",
   "id": "459e80f5",
   "metadata": {},
   "source": [
    "Porto Alegre has a relatively straightforward public transport system, where the vast majority of the population that rely on transit ride buses. The city also has a metropolitan rail service that connects the city center to the neighboring northbound municipalities. That system can be seen in the map below.\n"
   ]
  },
  {
   "cell_type": "code",
   "execution_count": null,
   "id": "f2212a96",
   "metadata": {},
   "outputs": [],
   "source": [
    "# setup and load Porto Alegre multimodal network into memory\n",
    "# system.file returns the directory with example data inside the r5r package\n",
    "# set data path to directory containing your own data if not using the examples\n",
    "data_path <- system.file(\"extdata/poa\", package = \"r5r\")\n",
    "r5r_core <- setup_r5(data_path)\n",
    "\n",
    "# load transit network as an SF\n",
    "transit_network <- transit_network_to_sf(r5r_core)\n",
    "\n",
    "# map\n",
    "ggplot() +\n",
    "  geom_sf(data=transit_network$routes, aes(color=mode)) +\n",
    "  theme_void()"
   ]
  },
  {
   "cell_type": "markdown",
   "id": "f51d0792",
   "metadata": {},
   "source": [
    "According to the fare rules in Porto Alegre, as in most Brazilian cities, the \n",
    "cost a a journey depends on a combination of number of subsequent trips and/or \n",
    "transport modes. In the case of Porto Alegre, the fare rules are as follows:\n",
    "\n",
    "- Each bus ticket costs R\\$ 4.80\n",
    "- Riding a second bus adds R\\$ 2.40  to the total cost. \n",
    "- Subsequent bus rides cost the full ticket price of R\\$ 4.80.\n",
    "- Each train ticket costs R\\$ 4.50. Once a passenger enters a train station, she can take an unlimited amount of train trips as long as she doesn't leave a station.\n",
    "- The integrated fare between bus and train has a 10% discount, which totals R\\$ 8.37.\n",
    "\n",
    "In the following sections, we will demonstrate how to implement those rules within r5r's fare calculator.\n",
    "\n",
    "\n",
    "# 3. Setting up the fare structure\n",
    "There are three support functions in `r5r` to help users configure the fare structure:\n",
    "-   `setup_fare_structure()` analyses the study area's GTFS and builds a 'skeleton' fare structure structure with the parameters that need to be set;\n",
    "-   `write_fare_structure()` and `read_fare_structure()` allow saving the current fare structure settings to disk, and reading them back into memory. The settings are saved as standard `.csv` files inside a zipped folder. These files can be edited outside the R session using external text editors and spreadsheet software, for user's convenience.\n",
    "First, we need to call `setup_fare_structure()`, providing three parameters: the\n",
    "current `r5r_core` object, a `base_fare` used to populate the fare structure, and\n",
    "the `by` parameters that identifies what is the main property of the route that \n",
    "defines the different fares.\n",
    "In the example below, the `base_fare` is the standard bus ticket price of R\\$ 4.80. \n",
    "We are also stating that `by = \"MODE\"`, so that each transport mode has its own \n",
    "fares and integration rules. Users can also create a fare structure where fare \n",
    "rules of routes differ by `\"AGENCY_ID\"` or `\"AGENCY_NAME\"`, or simply set `by = \"GENERIC\"` when the entire system follows the same rules.\n"
   ]
  },
  {
   "cell_type": "code",
   "execution_count": null,
   "id": "62f5b1ba",
   "metadata": {},
   "outputs": [],
   "source": [
    "fare_structure <- setup_fare_structure(r5r_core, \n",
    "                                       base_fare = 4.8,\n",
    "                                       by = \"MODE\")"
   ]
  },
  {
   "cell_type": "markdown",
   "id": "e19061b2",
   "metadata": {},
   "source": [
    "Now let's check the contents of the `fare_structure` object. We can see below that it is simply a `list` with a few properties and data.frames.\n"
   ]
  },
  {
   "cell_type": "code",
   "execution_count": null,
   "id": "ac921e62",
   "metadata": {},
   "outputs": [],
   "source": [
    "head(fare_structure, n=7)"
   ]
  },
  {
   "cell_type": "markdown",
   "id": "7c52cd1e",
   "metadata": {},
   "source": [
    "## 3.1 Global Properties\n",
    "\n",
    "Let's configure the global properties first, which are the ones that are applied \n",
    "to the entire system. \n",
    "\n",
    "### `max_discounted_transfers`\n",
    "\n",
    "Note that `max_discounted_transfers` is set to 1 by default. This means that the \n",
    "passenger gets a fare discount in the first transfer between buses, but she would \n",
    "pay the full fare price in subsequent transfers. \n",
    "\n",
    "### `transfer_time_allowance`\n",
    "\n",
    "By default, `transfer_time_allowance` is set to 120 minutes. We have to set it to \n",
    "60 minutes to fit our use case (passengers have 60 minutes to take the second bus \n",
    "on a discounted fare, otherwise a full fare is charged).\n",
    "\n",
    "### `fare_cap`\n",
    "\n",
    "Finally, the `fare_cap` setting indicates if there is a maximum value that can be \n",
    "charged in a trip, beyond which all subsequent rides are free of charge. In this \n",
    "example, we can leave `fare_cap` set to its default `Inf` value because this \n",
    "feature is not applicable to Porto Alegre.\n",
    "Here is how we can check or update the values of these components:"
   ]
  },
  {
   "cell_type": "code",
   "execution_count": null,
   "id": "6a726628",
   "metadata": {},
   "outputs": [],
   "source": [
    "fare_structure$max_discounted_transfers\n",
    "fare_structure$transfer_time_allowance <- 60 # update transfer_time_allowance\n",
    "fare_structure$fare_cap"
   ]
  },
  {
   "cell_type": "markdown",
   "id": "4893815f",
   "metadata": {},
   "source": [
    "## 3.2 Configure fares by transport mode\n",
    "To configure mode-, transfer-, and route-specific properties, we can use the three `data.frames` inside our `fare_structure` list. Let's configure the modes first. \n",
    "Below, we can see that the `fares_per_type` data.frame contains five columns:\n",
    "\n",
    "-   `mode`: the transport mode to which rules on each row refer to;\n",
    "-   `unlimited_transfers`: a logical value `TRUE` or `FALSE` that indicates if that transport mode allows unlimited transfers between trips of the same mode, such as a metro/subway system where the passenger pays a fare to access a station and then can use as many services as she wants as long as she doesn't exit the system;\n",
    "-   `allow_same_route_transfer`: a logical value indicating if a discounted transfer can be done between vehicles ??? of the same route;\n",
    "-   `use_route_fare`: another logical value that indicates if each route will have its own fare, or if all routes in this mode will use the fare indicated in this table;\n",
    "-   `fare`: the full fare price of this mode."
   ]
  },
  {
   "cell_type": "code",
   "execution_count": null,
   "id": "dc257d40",
   "metadata": {},
   "outputs": [],
   "source": [
    "fare_structure$fares_per_type"
   ]
  },
  {
   "cell_type": "markdown",
   "id": "59c59af9",
   "metadata": {},
   "source": [
    "We need to do a few small changes in the `fares_per_type` table to accomodate the\n",
    "fare rules of Porto Alegre. In the `\"RAIL\"` mode, we need to set `unlimited_transfers`\n",
    "and `allow_same_route_transfer` to `TRUE`, and update `fare` to 4.50. In the `\"BUS\"` \n",
    "mode, we can let the `allow_same_route_transfer` set to its default `FALSE` value, \n",
    "because even though there is a discount for transfers between buses (which is set \n",
    "in the following section), that discount is not valid when transferring between \n",
    "buses within the same route (for example, from bus route T1 to another T1). We'll \n",
    "do those changes below, using `data.table` notation."
   ]
  },
  {
   "cell_type": "code",
   "execution_count": null,
   "id": "7d2cc8ea",
   "metadata": {},
   "outputs": [],
   "source": [
    "fare_structure$fares_per_type[type == \"RAIL\", unlimited_transfers := TRUE]\n",
    "fare_structure$fares_per_type[type == \"RAIL\", fare := 4.50]\n",
    "fare_structure$fares_per_type[type == \"RAIL\", allow_same_route_transfer := TRUE]"
   ]
  },
  {
   "cell_type": "markdown",
   "id": "3688108c",
   "metadata": {},
   "source": [
    "Checking the results below, everything looks OK:"
   ]
  },
  {
   "cell_type": "code",
   "execution_count": null,
   "id": "05acd4eb",
   "metadata": {},
   "outputs": [],
   "source": [
    "fare_structure$fares_per_type"
   ]
  },
  {
   "cell_type": "markdown",
   "id": "5e0c19be",
   "metadata": {},
   "source": [
    "## 3.3 Configure fares by transfers\n",
    "\n",
    "The fare rules for transfer are stored in the `fares_per_transfer` data.frame, \n",
    "which is shown below. Each row contains the fare prices for transfers between the\n",
    "modes specified in `first_leg` and `second_leg` columns."
   ]
  },
  {
   "cell_type": "code",
   "execution_count": null,
   "id": "b55f745b",
   "metadata": {},
   "outputs": [],
   "source": [
    "fare_structure$fares_per_transfer"
   ]
  },
  {
   "cell_type": "markdown",
   "id": "82d91444",
   "metadata": {},
   "source": [
    "Let's update `fare_per_transfer` to account for the actual integration rules in \n",
    "Porto Alegre.\n",
    "-   The fare for \"BUS\" to \"BUS\" integration is composed of 4.80 for the first leg plus 2.40 for the second leg, which equals to a total fare of 7.20.\n"
   ]
  },
  {
   "cell_type": "code",
   "execution_count": null,
   "id": "9e197850",
   "metadata": {},
   "outputs": [],
   "source": [
    "# conditional update fare value\n",
    "fare_structure$fares_per_transfer[first_leg == \"BUS\" & second_leg == \"BUS\", fare := 7.2]\n"
   ]
  },
  {
   "cell_type": "markdown",
   "id": "ab4a5060",
   "metadata": {},
   "source": [
    "- Transfers between \"BUS\" and \"RAIL\" (in any direction) cost 8.37, once the 10% discount is applied. Let's make a final update in the data.frame to account for that.\n"
   ]
  },
  {
   "cell_type": "code",
   "execution_count": null,
   "id": "942ba34a",
   "metadata": {},
   "outputs": [],
   "source": [
    "# conditional update fare value\n",
    "fare_structure$fares_per_transfer[first_leg != second_leg, fare := 8.37]\n",
    "\n",
    "# use fcase instead ?\n",
    "fare_structure$fares_per_transfer[, fare := fcase(first_leg == \"BUS\" & second_leg == \"BUS\", 7.2,\n",
    "                                                 first_leg != second_leg, 8.37)]"
   ]
  },
  {
   "cell_type": "markdown",
   "id": "6ea803d9",
   "metadata": {},
   "source": [
    "-   Transfers between \"RAIL\" and \"RAIL\" are free and unlimited, which is already \n",
    "accounted for in the field `unlimited_transfers` of the `fare_per_mode` table. \n",
    "Thus, the equivalent row of the `fare_per_transfer` data.frame needs to be removed. \n",
    "If we leave the that row in `fare_per_transfer`, transfers between \"RAIL\" and \"RAIL\" \n",
    "will count to the global `max_discounted_transfers` allowance.\n"
   ]
  },
  {
   "cell_type": "code",
   "execution_count": null,
   "id": "8a795b4d",
   "metadata": {},
   "outputs": [],
   "source": [
    "# remove row\n",
    "fare_structure$fares_per_transfer <- fare_structure$fares_per_transfer[!(first_leg == \"RAIL\" & second_leg == \"RAIL\")]\n"
   ]
  },
  {
   "cell_type": "markdown",
   "id": "b04aa781",
   "metadata": {},
   "source": [
    "Once all changes are applied, the `fare_per_transfer` data.frame should look like \n",
    "this:"
   ]
  },
  {
   "cell_type": "code",
   "execution_count": null,
   "id": "8d09e1d1",
   "metadata": {},
   "outputs": [],
   "source": [
    "fare_structure$fares_per_transfer"
   ]
  },
  {
   "cell_type": "markdown",
   "id": "1c6be6ab",
   "metadata": {},
   "source": [
    "## 3.4 Routes configuration\n",
    "\n",
    "The information on the fare price for each route is stored in the `fares_per_route` \n",
    "data.frame. Below, we can see a sample of the bus and train routes in Porto Alegre. \n",
    "In case there a few special routes (e.g. express services) with specific fares, \n",
    "these values can be updated in this `fares_per_route` data.frame.\n",
    "\n"
   ]
  },
  {
   "cell_type": "code",
   "execution_count": null,
   "id": "ded91945",
   "metadata": {},
   "outputs": [],
   "source": [
    "tail(fare_structure$fares_per_route)"
   ]
  },
  {
   "cell_type": "markdown",
   "id": "6299a867",
   "metadata": {},
   "source": [
    "Basic route information is taken directly from the GTFS data (agency, route id \n",
    "and names, mode, etc), but the `route_fare` and `fare_type` columns were added \n",
    "specifically for the `r5r` fare structure.\n",
    "\n",
    "-   `route_fare`: is used to set a specific fare for each route. This field can \n",
    "be used to represent services that have many unique fares, such as metropolitan \n",
    "/ suburban trains and buses. This is used together with the `use_route_fare` \n",
    "column in the `fares_per_type` table: the `route_fare` field is only considered \n",
    "by the `r5r` fare structure when `use_route_fare` of that mode is set to `TRUE`.\n",
    "\n",
    "-   `fare_type`: is used to link each route with information in the `fares_per_type` \n",
    "and `fares_per_transfer` tables. In this example, `fare_type` is always the same \n",
    "as `mode`, because that was what we chose in the `by` parameter when calling `setup_fare_structure` earlier (we could have chosen to discriminate fares by \n",
    "agency, for example).\n",
    "\n",
    "We actually don't have any change do to in the `fares_per_route` table, in this \n",
    "example. It does not matter that the `route_fare` value is wrong for the \"RAIL\" \n",
    "lines, because we are using the fares set in `fares_per_type` and `fares_per_transfer` \n",
    "which we already set up correctly before.\n",
    "Now that our `fare_structure` is complete, we can use it to calculate travel time \n",
    "matrices and accessibility while accounting for monetary cost cutoffs. Let's see \n",
    "how it's done in the next sections.\n",
    "# 4. Calculating travel time and accessibiilty accounting for monetary costs\n",
    "The `travel_time_matrix()` and `accessibility()` functions have two new parameters \n",
    "to account for monetary costs thresholds:\n",
    "-   `fare_structure`: the settings object that we've been working on.\n",
    "-   `max_fare`: the maximum total fare that can be used in the trip.\n",
    "\n",
    "## 4.1 Travel time with monetary cost\n",
    "\n",
    "The following example shows travel time differences when monetary costs are \n",
    "accounted for, using the `travel_time_matrix()` function."
   ]
  },
  {
   "cell_type": "code",
   "execution_count": null,
   "id": "c4d0f0cd",
   "metadata": {},
   "outputs": [],
   "source": [
    "## load input data\n",
    "points <- read.csv(system.file(\"extdata/poa/poa_hexgrid.csv\", package = \"r5r\"))\n",
    "\n",
    "# calculate travel times function\n",
    "calculate_travel_times <- function(fare) {\n",
    "\n",
    "  ttm_df <- travel_time_matrix(r5r_core,\n",
    "                               origins = points,\n",
    "                               destinations = points,\n",
    "                               departure_datetime = as.POSIXct(\"13-05-2019 14:00:00\",\n",
    "                                                               format = \"%d-%m-%Y %H:%M:%S\"),\n",
    "                               mode = c(\"WALK\", \"TRANSIT\"),\n",
    "                               fare_structure = fare_structure,\n",
    "                               max_fare = fare,\n",
    "                               max_trip_duration = 45,\n",
    "                               max_walk_time = 30)\n",
    "\n",
    "  return(ttm_df)\n",
    "}\n",
    "\n",
    "\n",
    "# calculate travel times, and combine results\n",
    "ttm <- calculate_travel_times(fare = Inf)\n",
    "ttm_500 <- calculate_travel_times(fare = 5)\n",
    "\n",
    "# merge results\n",
    "ttm[ttm_500, on = .(from_id, to_id), travel_time_500 := i.travel_time_p50]\n",
    "ttm[, travel_time_unl := travel_time_p50]\n",
    "ttm[, travel_time_p50 := NULL]"
   ]
  },
  {
   "cell_type": "markdown",
   "id": "2ed575ed",
   "metadata": {},
   "source": [
    "Below, we can see a sample of the travel time differences with and without monetary \n",
    "cost restriction. We can see that some trips are not affected at all (`travel_time_unl == travel_time_500`), some trips take a little longer to complete (`travel_time_500 > travel_time_unl`), and other trips cannot be completed at all (`travel_time_500 == NA`).\n"
   ]
  },
  {
   "cell_type": "code",
   "execution_count": null,
   "id": "15f66d0a",
   "metadata": {},
   "outputs": [],
   "source": [
    "tail(ttm, 10)"
   ]
  },
  {
   "cell_type": "markdown",
   "id": "1dbfc239",
   "metadata": {},
   "source": [
    "The plots below show the overall distribution of the travel time differences and \n",
    "unreachable destinations:"
   ]
  },
  {
   "cell_type": "code",
   "execution_count": null,
   "id": "9b6855a5",
   "metadata": {},
   "outputs": [],
   "source": [
    "# plot of overall travel time differences between limited and unlimited cost travel time matrices \n",
    "time_difference = ttm[!is.na(travel_time_500), .(count = .N), \n",
    "                      by = .(travel_time_unl, travel_time_500)]\n",
    "\n",
    "p1 <- ggplot(time_difference, aes(y = travel_time_unl, x = travel_time_500)) +\n",
    "  geom_point(size = 0.7) +\n",
    "  coord_fixed() +\n",
    "  scale_x_continuous(breaks = seq(0, 45, 5)) +\n",
    "  scale_y_continuous(breaks = seq(0, 45, 5)) +\n",
    "  theme_light() +\n",
    "  theme(legend.position = \"none\") +\n",
    "  labs(y = \"travel time (minutes)\\nunestricted monetary cost\",\n",
    "       x = \"travel time (minutes)\\nmonetary cost restricted to BRL 5.00\"\n",
    "       )\n",
    "\n",
    "# plot of unreachable destinations when the monetary cost limit is too low\n",
    "unreachable <- ttm[, .(count = .N), by = .(travel_time_unl, is.na(travel_time_500))]\n",
    "unreachable[, perc := count / sum(count, na.rm = T), by = .(travel_time_unl)]\n",
    "unreachable <- unreachable[is.na == TRUE]\n",
    "unreachable <- na.omit(unreachable)\n",
    "\n",
    "p2 <- ggplot(unreachable, aes(x=travel_time_unl, y=perc)) +\n",
    "  geom_col() +\n",
    "  coord_flip() +\n",
    "  scale_x_continuous(breaks = seq(0, 45, 5)) +\n",
    "  scale_y_continuous(limits = c(0, 1), breaks = seq(0, 1, 0.2), \n",
    "                     labels = paste0(seq(0, 100, 20), \"%\")) +\n",
    "  theme_light() +\n",
    "  labs(x = \"travel time (minutes)\\nwithout monetary cost restriction\",\n",
    "       y = \"% of unreachable destinations\\nconsidering a R$ 5.00 monetary cost limit\")\n",
    "\n",
    "# combine both plots using patchwork\n",
    "p1 + p2 + plot_annotation(subtitle = \"Comparing travel times with and without monetary cost restriction\")"
   ]
  },
  {
   "cell_type": "markdown",
   "id": "fb11a187",
   "metadata": {},
   "source": [
    "## 4.2 Calculating accessibility with monetary cost\n",
    "\n",
    "Now, we can answer questions like \"how many health care facilities one can access \n",
    "in 60 minutes using public transport, on a R\\$5.00 budget?\". We'll do that below, \n",
    "and compare the results the accessibility unconstrained by monetary costs: "
   ]
  },
  {
   "cell_type": "code",
   "execution_count": null,
   "id": "52bb393d",
   "metadata": {},
   "outputs": [],
   "source": [
    "# calculate accessibility function\n",
    "calculate_accessibility <- function(fare, fare_string) {\n",
    "  access_df <- accessibility(r5r_core,\n",
    "                             origins = points,\n",
    "                             destinations = points,\n",
    "                             departure_datetime = as.POSIXct(\"13-05-2019 14:00:00\",\n",
    "                                                             format = \"%d-%m-%Y %H:%M:%S\"),\n",
    "                             opportunities_colname = \"healthcare\",\n",
    "                             mode = c(\"WALK\", \"TRANSIT\"),\n",
    "                             cutoffs = c(60),\n",
    "                             fare_structure = fare_structure,\n",
    "                             max_fare = fare,\n",
    "                             max_trip_duration = 45,\n",
    "                             max_walk_time = 30,\n",
    "                             progress = FALSE)\n",
    "  access_df$max_fare <- fare_string\n",
    "  return(access_df)\n",
    "}\n",
    "# calculate accessibility, combine results, and convert to SF\n",
    "access_500 <- calculate_accessibility(fare=5, fare_string=\"R$ 5.00 budget\")\n",
    "access_unl <- calculate_accessibility(fare=Inf, fare_string=\"Unlimited budget\")\n",
    "access <- rbind(access_500, access_unl)\n",
    "# bring geometry\n",
    "access$geometry <- h3jsr::cell_to_polygon(access$id)\n",
    "access <- st_as_sf(access)"
   ]
  },
  {
   "cell_type": "markdown",
   "id": "9fca6aa1",
   "metadata": {},
   "source": [
    "Finally, we can plot the results and see how accessibility levels can differ \n",
    "quite substantially when we account for monetary costs. "
   ]
  },
  {
   "cell_type": "code",
   "execution_count": null,
   "id": "a5c30c34",
   "metadata": {},
   "outputs": [],
   "source": [
    "# plot accessibility maps\n",
    "ggplot(data = access) +\n",
    "  geom_sf(aes(fill = accessibility), color=NA, size = 0.2) +\n",
    "  scale_fill_distiller(palette = \"Spectral\") +\n",
    "  facet_wrap(~max_fare) +\n",
    "  labs(subtitle = \"Effect of monetary cost on accessibility\") +\n",
    "  theme_minimal() +\n",
    "  theme(legend.position = \"bottom\",\n",
    "        axis.text = element_blank())\n"
   ]
  },
  {
   "cell_type": "markdown",
   "id": "d9ced6a7",
   "metadata": {},
   "source": [
    "If you have any suggestions or want to report an error, please visit [the package GitHub page](https://github.com/ipeaGIT/r5r)."
   ]
  }
 ],
 "metadata": {
  "kernelspec": {
   "display_name": "R",
   "language": "R",
   "name": "ir"
  },
  "language_info": {
   "codemirror_mode": "r",
   "file_extension": ".r",
   "mimetype": "text/x-r-source",
   "name": "R",
   "pygments_lexer": "r",
   "version": "4.2.2"
  }
 },
 "nbformat": 4,
 "nbformat_minor": 5
}
